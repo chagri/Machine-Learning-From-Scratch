{
 "cells": [
  {
   "cell_type": "markdown",
   "metadata": {},
   "source": [
    "A random forest consists of multiple decision trees (=estimators). Each decision tree is trained on different batch of data. Each tree makes a prediction on the query. The output of the random forrest is the majority vote of all its estimators. A random forest belongs to the class of ensemble learners."
   ]
  },
  {
   "cell_type": "code",
   "execution_count": 4,
   "metadata": {
    "scrolled": true
   },
   "outputs": [
    {
     "data": {
      "image/png": "[encoded data removed]",
      "text/plain": [
       "<Figure size 432x288 with 1 Axes>"
      ]
     },
     "metadata": {
      "needs_background": "light"
     },
     "output_type": "display_data"
    }
   ],
   "source": [
    "%matplotlib inline\n",
    "import matplotlib.pyplot as plt\n",
    "import numpy as np\n",
    "import pandas as pd\n",
    "from sklearn.model_selection import train_test_split\n",
    "from sklearn.datasets import make_moons\n",
    "from sklearn.ensemble import RandomForestClassifier\n",
    "from sklearn.metrics import accuracy_score\n",
    "\n",
    "np.random.seed(42)\n",
    "\n",
    "# creating our own random data set\n",
    "#X, y = make_moons(n_samples=500, noise=0.30, random_state=42)\n",
    "\n",
    "# data set is the iris dataset from https://www.kaggle.com/arshid/iris-flower-dataset\n",
    "# we are only keeping features \"petal_length\" and \"petal_width\"\n",
    "df = pd.read_csv(\"data/iris.csv\").drop([\"sepal_width\", \"sepal_length\"], 1) \n",
    "\n",
    "# convert labels to numbers\n",
    "label_mappings = {label_str:i for i,label_str in enumerate(df[\"species\"].unique())}\n",
    "df.replace({\"species\":label_mappings}, inplace=True)\n",
    "\n",
    "X = np.array(df.drop([\"species\"], 1))\n",
    "y = np.array(df[\"species\"])\n",
    "\n",
    "X_train, X_test, y_train, y_test = train_test_split(X, y, random_state=42)\n",
    "\n",
    "plt.scatter(X_train[:,0][y_train==0], X_train[:,1][y_train==0], color=\"b\")\n",
    "plt.scatter(X_train[:,0][y_train==1], X_train[:,1][y_train==1], color=\"r\")\n",
    "\n",
    "plt.show()"
   ]
  },
  {
   "cell_type": "code",
   "execution_count": 5,
   "metadata": {},
   "outputs": [
    {
     "name": "stdout",
     "output_type": "stream",
     "text": [
      "accuracy: 1.0\n"
     ]
    }
   ],
   "source": [
    "clf = RandomForestClassifier(n_estimators=10, random_state=42) # 10 estimators\n",
    "clf.fit(X_train, y_train)\n",
    "y_pred = clf.predict(X_test)\n",
    "print(\"accuracy: {}\".format(accuracy_score(y_test, y_pred)))"
   ]
  },
  {
   "cell_type": "code",
   "execution_count": null,
   "metadata": {},
   "outputs": [],
   "source": []
  }
 ],
 "metadata": {
  "kernelspec": {
   "display_name": "Python 3",
   "language": "python",
   "name": "python3"
  },
  "language_info": {
   "codemirror_mode": {
    "name": "ipython",
    "version": 3
   },
   "file_extension": ".py",
   "mimetype": "text/x-python",
   "name": "python",
   "nbconvert_exporter": "python",
   "pygments_lexer": "ipython3",
   "version": "3.6.13"
  }
 },
 "nbformat": 4,
 "nbformat_minor": 2
}
