{
 "cells": [
  {
   "cell_type": "markdown",
   "metadata": {},
   "source": [
    "Internet Resources:\n",
    "\n",
    "[Python Programming.net - machine learning episodes 13-19](https://pythonprogramming.net/k-nearest-neighbors-intro-machine-learning-tutorial/)\n",
    "\n",
    "K Nearest Neighbors is a classification algorithm. It classifies a query by clalculating the euclidian distance to every other sample in the training data. The query is then classified as the majority class of the k nearest training samples."
   ]
  },
  {
   "cell_type": "code",
   "execution_count": 10,
   "metadata": {},
   "outputs": [
    {
     "name": "stdout",
     "output_type": "stream",
     "text": [
      "sample size:  699 699\n",
      "test accuracy: 0.9857142857142858\n",
      "train accuracy: 0.9666136724960255\n",
      "[4] True\n"
     ]
    }
   ],
   "source": [
    "import numpy as np\n",
    "from sklearn import preprocessing, model_selection, neighbors\n",
    "import pandas as pd\n",
    "\n",
    "# getting data\n",
    "df = pd.read_csv('data/breast-cancer-wisconsin.data') # data from https://archive.ics.uci.edu/ml/datasets/Breast+Cancer+Wisconsin+%28Original%29\n",
    "df.replace('?',-99999, inplace=True)\n",
    "df.drop(['id'], 1, inplace=True)\n",
    "\n",
    "# getting features and labels\n",
    "x = np.array(df.drop(['class'], 1))\n",
    "y = np.array(df['class'])\n",
    "\n",
    "#print(df.columns)\n",
    "\n",
    "print (\"sample size: \", len(x), len(y))\n",
    "x_train, x_test, y_train, y_test = model_selection.train_test_split(x, y, test_size=0.2)\n",
    "#print (\"train and test sample size: \", len(x_train), len(x_test))\n",
    "\n",
    "x_train, x_test, y_train, y_test = model_selection.train_test_split(x, y, test_size=0.1)\n",
    "#print (\"train and test sample size: \", len(x_train), len(x_test))\n",
    "\n",
    "# fitting to data\n",
    "clf = neighbors.KNeighborsClassifier()\n",
    "clf.fit(x_train, y_train)\n",
    "accuracy = clf.score(x_test, y_test)\n",
    "train_accuracy = clf.score(x_train, y_train)\n",
    "print(f\"test accuracy: {accuracy}\")\n",
    "print(f\"train accuracy: {train_accuracy}\")\n",
    "df.head()\n",
    "\n",
    "test_sample = [[10,1000,8,7,10,9,7,1]]\n",
    "test_sample_label = 4\n",
    "\n",
    "\n",
    "predicted_class = clf.predict(test_sample)\n",
    "print(predicted_class, predicted_class[0]==test_sample_label)\n"
   ]
  },
  {
   "cell_type": "code",
   "execution_count": 2,
   "metadata": {},
   "outputs": [
    {
     "name": "stdout",
     "output_type": "stream",
     "text": [
      "[2 2]\n"
     ]
    }
   ],
   "source": [
    "# predicting two samples \n",
    "example_measures = np.array([[4,2,1,1,1,2,3,2], [1,2,1,3,1,2,3,2]])\n",
    "prediction = clf.predict(example_measures)\n",
    "print(prediction)"
   ]
  },
  {
   "cell_type": "code",
   "execution_count": null,
   "metadata": {},
   "outputs": [],
   "source": []
  }
 ],
 "metadata": {
  "kernelspec": {
   "display_name": "Python 3",
   "language": "python",
   "name": "python3"
  },
  "language_info": {
   "codemirror_mode": {
    "name": "ipython",
    "version": 3
   },
   "file_extension": ".py",
   "mimetype": "text/x-python",
   "name": "python",
   "nbconvert_exporter": "python",
   "pygments_lexer": "ipython3",
   "version": "3.7.2"
  }
 },
 "nbformat": 4,
 "nbformat_minor": 2
}
